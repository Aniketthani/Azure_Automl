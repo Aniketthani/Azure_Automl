{
 "cells": [
  {
   "cell_type": "code",
   "execution_count": 1,
   "id": "c9c3b091-254b-40b5-8f16-602530d6d37e",
   "metadata": {},
   "outputs": [],
   "source": [
    "from azureml.core import Workspace, Datastore, Dataset"
   ]
  },
  {
   "cell_type": "code",
   "execution_count": 2,
   "id": "d4ca526e-ba48-4e59-b847-335be15e8b82",
   "metadata": {},
   "outputs": [],
   "source": [
    "ws=Workspace.from_config()"
   ]
  },
  {
   "cell_type": "code",
   "execution_count": 3,
   "id": "77a9a6b2-d622-4a0c-89a1-b06eb17d5459",
   "metadata": {},
   "outputs": [],
   "source": [
    "import pandas as pd\n",
    "import numpy as np"
   ]
  },
  {
   "cell_type": "code",
   "execution_count": 4,
   "id": "86d3a077-d333-4bef-980d-8ff443479413",
   "metadata": {},
   "outputs": [],
   "source": [
    "df=pd.read_csv(\"data/diabetes.csv\")"
   ]
  },
  {
   "cell_type": "code",
   "execution_count": 6,
   "id": "db4d1119-bf03-4b7b-84e3-b59ffd015232",
   "metadata": {},
   "outputs": [
    {
     "data": {
      "text/html": [
       "<div>\n",
       "<style scoped>\n",
       "    .dataframe tbody tr th:only-of-type {\n",
       "        vertical-align: middle;\n",
       "    }\n",
       "\n",
       "    .dataframe tbody tr th {\n",
       "        vertical-align: top;\n",
       "    }\n",
       "\n",
       "    .dataframe thead th {\n",
       "        text-align: right;\n",
       "    }\n",
       "</style>\n",
       "<table border=\"1\" class=\"dataframe\">\n",
       "  <thead>\n",
       "    <tr style=\"text-align: right;\">\n",
       "      <th></th>\n",
       "      <th>Pregnancies</th>\n",
       "      <th>Glucose</th>\n",
       "      <th>BloodPressure</th>\n",
       "      <th>SkinThickness</th>\n",
       "      <th>Insulin</th>\n",
       "      <th>BMI</th>\n",
       "      <th>DiabetesPedigreeFunction</th>\n",
       "      <th>Age</th>\n",
       "      <th>Outcome</th>\n",
       "    </tr>\n",
       "  </thead>\n",
       "  <tbody>\n",
       "    <tr>\n",
       "      <th>0</th>\n",
       "      <td>6</td>\n",
       "      <td>148</td>\n",
       "      <td>72</td>\n",
       "      <td>35</td>\n",
       "      <td>0</td>\n",
       "      <td>33.6</td>\n",
       "      <td>0.627</td>\n",
       "      <td>50</td>\n",
       "      <td>1</td>\n",
       "    </tr>\n",
       "    <tr>\n",
       "      <th>1</th>\n",
       "      <td>1</td>\n",
       "      <td>85</td>\n",
       "      <td>66</td>\n",
       "      <td>29</td>\n",
       "      <td>0</td>\n",
       "      <td>26.6</td>\n",
       "      <td>0.351</td>\n",
       "      <td>31</td>\n",
       "      <td>0</td>\n",
       "    </tr>\n",
       "    <tr>\n",
       "      <th>2</th>\n",
       "      <td>8</td>\n",
       "      <td>183</td>\n",
       "      <td>64</td>\n",
       "      <td>0</td>\n",
       "      <td>0</td>\n",
       "      <td>23.3</td>\n",
       "      <td>0.672</td>\n",
       "      <td>32</td>\n",
       "      <td>1</td>\n",
       "    </tr>\n",
       "    <tr>\n",
       "      <th>3</th>\n",
       "      <td>1</td>\n",
       "      <td>89</td>\n",
       "      <td>66</td>\n",
       "      <td>23</td>\n",
       "      <td>94</td>\n",
       "      <td>28.1</td>\n",
       "      <td>0.167</td>\n",
       "      <td>21</td>\n",
       "      <td>0</td>\n",
       "    </tr>\n",
       "    <tr>\n",
       "      <th>4</th>\n",
       "      <td>0</td>\n",
       "      <td>137</td>\n",
       "      <td>40</td>\n",
       "      <td>35</td>\n",
       "      <td>168</td>\n",
       "      <td>43.1</td>\n",
       "      <td>2.288</td>\n",
       "      <td>33</td>\n",
       "      <td>1</td>\n",
       "    </tr>\n",
       "  </tbody>\n",
       "</table>\n",
       "</div>"
      ],
      "text/plain": [
       "   Pregnancies  Glucose  BloodPressure  SkinThickness  Insulin   BMI  \\\n",
       "0            6      148             72             35        0  33.6   \n",
       "1            1       85             66             29        0  26.6   \n",
       "2            8      183             64              0        0  23.3   \n",
       "3            1       89             66             23       94  28.1   \n",
       "4            0      137             40             35      168  43.1   \n",
       "\n",
       "   DiabetesPedigreeFunction  Age  Outcome  \n",
       "0                     0.627   50        1  \n",
       "1                     0.351   31        0  \n",
       "2                     0.672   32        1  \n",
       "3                     0.167   21        0  \n",
       "4                     2.288   33        1  "
      ]
     },
     "execution_count": 6,
     "metadata": {},
     "output_type": "execute_result"
    }
   ],
   "source": [
    "df.head()"
   ]
  },
  {
   "cell_type": "code",
   "execution_count": 7,
   "id": "d1b9a1dd-82a8-466f-adf4-0dd34bcfdb66",
   "metadata": {},
   "outputs": [
    {
     "data": {
      "text/plain": [
       "(768, 9)"
      ]
     },
     "execution_count": 7,
     "metadata": {},
     "output_type": "execute_result"
    }
   ],
   "source": [
    "df.shape"
   ]
  },
  {
   "cell_type": "code",
   "execution_count": 8,
   "id": "61c92d89-ff2e-4b57-9775-c452f99c9242",
   "metadata": {},
   "outputs": [],
   "source": [
    "from sklearn.model_selection import train_test_split"
   ]
  },
  {
   "cell_type": "code",
   "execution_count": 9,
   "id": "9061b385-f064-4b18-9261-af65ee811cf4",
   "metadata": {},
   "outputs": [],
   "source": [
    "X_train,X_val,y_train,y_val=train_test_split(df.drop(\"Outcome\",axis=1),df[\"Outcome\"],test_size=0.2)"
   ]
  },
  {
   "cell_type": "code",
   "execution_count": 10,
   "id": "c1c452da-98ff-46bc-b0e6-bffd44d70643",
   "metadata": {},
   "outputs": [
    {
     "data": {
      "text/plain": [
       "(614, 8)"
      ]
     },
     "execution_count": 10,
     "metadata": {},
     "output_type": "execute_result"
    }
   ],
   "source": [
    "X_train.shape"
   ]
  },
  {
   "cell_type": "code",
   "execution_count": 11,
   "id": "e6b494a8-12d9-48cb-bcf5-54636c470cbf",
   "metadata": {},
   "outputs": [
    {
     "data": {
      "text/plain": [
       "(614,)"
      ]
     },
     "execution_count": 11,
     "metadata": {},
     "output_type": "execute_result"
    }
   ],
   "source": [
    "y_train.shape"
   ]
  },
  {
   "cell_type": "code",
   "execution_count": 12,
   "id": "ca91f211-52c1-4944-9eaf-6778115c08d1",
   "metadata": {},
   "outputs": [
    {
     "data": {
      "text/plain": [
       "(154, 8)"
      ]
     },
     "execution_count": 12,
     "metadata": {},
     "output_type": "execute_result"
    }
   ],
   "source": [
    "X_val.shape"
   ]
  },
  {
   "cell_type": "code",
   "execution_count": 13,
   "id": "8a0c63a0-3d8d-4aee-87ba-966b70addce8",
   "metadata": {},
   "outputs": [
    {
     "data": {
      "text/plain": [
       "(154,)"
      ]
     },
     "execution_count": 13,
     "metadata": {},
     "output_type": "execute_result"
    }
   ],
   "source": [
    "y_val.shape"
   ]
  },
  {
   "cell_type": "code",
   "execution_count": 14,
   "id": "0f1e612c-e12c-4314-91a6-dc2a86e81bb9",
   "metadata": {},
   "outputs": [],
   "source": [
    "train_data=pd.concat([X_train,y_train],axis=1)\n",
    "train_data.to_csv(\"data/train_data.csv\",index=False)"
   ]
  },
  {
   "cell_type": "code",
   "execution_count": 15,
   "id": "2da26b4f-56b3-4d80-9d61-dd0cfe60d887",
   "metadata": {},
   "outputs": [],
   "source": [
    "val_data=pd.concat([X_val,y_val],axis=1)\n",
    "val_data.to_csv(\"data/val_data.csv\",index=False)"
   ]
  },
  {
   "cell_type": "code",
   "execution_count": 18,
   "id": "038ffb39-6425-4e39-a733-cef1c02fa96c",
   "metadata": {},
   "outputs": [],
   "source": [
    "dstore=ws.get_default_datastore()"
   ]
  },
  {
   "cell_type": "code",
   "execution_count": 19,
   "id": "3bc9415c-8c0c-4c51-91e6-1a7138d81ad1",
   "metadata": {},
   "outputs": [
    {
     "data": {
      "text/plain": [
       "{\n",
       "  \"name\": \"workspaceblobstore\",\n",
       "  \"container_name\": \"azureml-blobstore-6f0016b9-6dc5-4759-b736-d1f51ecbf40f\",\n",
       "  \"account_name\": \"proddevmlws2860868256\",\n",
       "  \"protocol\": \"https\",\n",
       "  \"endpoint\": \"core.windows.net\"\n",
       "}"
      ]
     },
     "execution_count": 19,
     "metadata": {},
     "output_type": "execute_result"
    }
   ],
   "source": [
    "dstore"
   ]
  },
  {
   "cell_type": "code",
   "execution_count": 20,
   "id": "2509cc35-12a8-4d1f-8964-fa7f89cff0ba",
   "metadata": {},
   "outputs": [
    {
     "name": "stderr",
     "output_type": "stream",
     "text": [
      "\"datastore.upload_files\" is deprecated after version 1.0.69. Please use \"FileDatasetFactory.upload_directory\" instead. See Dataset API change notice at https://aka.ms/dataset-deprecation.\n"
     ]
    },
    {
     "name": "stdout",
     "output_type": "stream",
     "text": [
      "Uploading an estimated of 1 files\n",
      "Uploading data/train_data.csv\n",
      "Uploaded data/train_data.csv, 1 files out of an estimated total of 1\n",
      "Uploaded 1 files\n"
     ]
    },
    {
     "data": {
      "text/plain": [
       "$AZUREML_DATAREFERENCE_f60f78b2cc994e36b2960d2b891882a8"
      ]
     },
     "execution_count": 20,
     "metadata": {},
     "output_type": "execute_result"
    }
   ],
   "source": [
    "dstore.upload_files(files=[\"data/train_data.csv\"],target_path=\"/Data\",overwrite=True,show_progress=True)"
   ]
  },
  {
   "cell_type": "code",
   "execution_count": 21,
   "id": "28bf63d9-1265-4295-bd0d-6e9d731781ed",
   "metadata": {},
   "outputs": [
    {
     "name": "stdout",
     "output_type": "stream",
     "text": [
      "Uploading an estimated of 1 files\n",
      "Uploading data/val_data.csv\n",
      "Uploaded data/val_data.csv, 1 files out of an estimated total of 1\n",
      "Uploaded 1 files\n"
     ]
    },
    {
     "data": {
      "text/plain": [
       "$AZUREML_DATAREFERENCE_e7c36355cb434711a3844d2cd2fdcb21"
      ]
     },
     "execution_count": 21,
     "metadata": {},
     "output_type": "execute_result"
    }
   ],
   "source": [
    "dstore.upload_files(files=[\"data/val_data.csv\"],target_path=\"/Data\",overwrite=True,show_progress=True)"
   ]
  },
  {
   "cell_type": "code",
   "execution_count": 23,
   "id": "a80d2c22-b825-45b9-97e9-b1a0ffc49152",
   "metadata": {},
   "outputs": [],
   "source": [
    "file_paths=[\n",
    "    (dstore,\"/Data/train_data.csv\"),\n",
    "]\n",
    "\n",
    "train_ds=Dataset.Tabular.from_delimited_files(path=file_paths)"
   ]
  },
  {
   "cell_type": "code",
   "execution_count": 24,
   "id": "2d217c86-b12c-4fa2-a74a-03528a35af4b",
   "metadata": {},
   "outputs": [
    {
     "data": {
      "text/plain": [
       "{\n",
       "  \"source\": [\n",
       "    \"('workspaceblobstore', '/Data/train_data.csv')\"\n",
       "  ],\n",
       "  \"definition\": [\n",
       "    \"GetDatastoreFiles\",\n",
       "    \"ParseDelimited\",\n",
       "    \"DropColumns\",\n",
       "    \"SetColumnTypes\"\n",
       "  ],\n",
       "  \"registration\": {\n",
       "    \"id\": \"6d344fb8-6c20-45ca-96a5-f3a5746447b6\",\n",
       "    \"name\": \"diabetes_dataset_train\",\n",
       "    \"version\": 1,\n",
       "    \"description\": \"diabetes train data\",\n",
       "    \"workspace\": \"Workspace.create(name='prod-dev-ml-ws', subscription_id='a8b508b6-da16-4c45-84f5-cac5c9f57513', resource_group='azure-mlops')\"\n",
       "  }\n",
       "}"
      ]
     },
     "execution_count": 24,
     "metadata": {},
     "output_type": "execute_result"
    }
   ],
   "source": [
    "train_ds.register(ws,name=\"diabetes_dataset_train\",description=\"diabetes train data\")"
   ]
  },
  {
   "cell_type": "code",
   "execution_count": 25,
   "id": "fbd6782f-d381-4c7b-b9ea-6e3950f959dd",
   "metadata": {},
   "outputs": [],
   "source": [
    "file_paths=[\n",
    "    (dstore,\"/Data/val_data.csv\"),\n",
    "]\n",
    "\n",
    "val_ds=Dataset.Tabular.from_delimited_files(path=file_paths)"
   ]
  },
  {
   "cell_type": "code",
   "execution_count": 26,
   "id": "93544988-888f-4a14-aa51-63aa1a44d713",
   "metadata": {},
   "outputs": [
    {
     "data": {
      "text/plain": [
       "{\n",
       "  \"source\": [\n",
       "    \"('workspaceblobstore', '/Data/val_data.csv')\"\n",
       "  ],\n",
       "  \"definition\": [\n",
       "    \"GetDatastoreFiles\",\n",
       "    \"ParseDelimited\",\n",
       "    \"DropColumns\",\n",
       "    \"SetColumnTypes\"\n",
       "  ],\n",
       "  \"registration\": {\n",
       "    \"id\": \"6554abad-2d4d-4ffe-b4b2-afab4230532b\",\n",
       "    \"name\": \"diabetes_dataset_val\",\n",
       "    \"version\": 1,\n",
       "    \"description\": \"diabetes val data\",\n",
       "    \"workspace\": \"Workspace.create(name='prod-dev-ml-ws', subscription_id='a8b508b6-da16-4c45-84f5-cac5c9f57513', resource_group='azure-mlops')\"\n",
       "  }\n",
       "}"
      ]
     },
     "execution_count": 26,
     "metadata": {},
     "output_type": "execute_result"
    }
   ],
   "source": [
    "val_ds.register(ws,name=\"diabetes_dataset_val\",description=\"diabetes val data\")"
   ]
  },
  {
   "cell_type": "markdown",
   "id": "a1bb89ca-8ab4-4c84-985c-8c4ab167de94",
   "metadata": {},
   "source": [
    "## Loading Datasets from the workspace"
   ]
  },
  {
   "cell_type": "code",
   "execution_count": 27,
   "id": "524befd9-2134-4cf9-a516-d253109b2f72",
   "metadata": {},
   "outputs": [],
   "source": [
    "diabetes_train=Dataset.get_by_name(ws,name=\"diabetes_dataset_train\")"
   ]
  },
  {
   "cell_type": "code",
   "execution_count": 29,
   "id": "01e9e384-c1ae-4ec3-a48b-75f131594ea4",
   "metadata": {},
   "outputs": [],
   "source": [
    "diabetes_val=Dataset.get_by_name(ws,name=\"diabetes_dataset_val\")"
   ]
  },
  {
   "cell_type": "code",
   "execution_count": 30,
   "id": "0a71c608-283b-4dae-b3b8-ca51263aa69a",
   "metadata": {},
   "outputs": [],
   "source": [
    "from azureml.train.automl import AutoMLConfig"
   ]
  },
  {
   "cell_type": "code",
   "execution_count": 31,
   "id": "d805814b-6496-4567-b1cf-2bd7b4e7c631",
   "metadata": {},
   "outputs": [],
   "source": [
    "compute_target = ws.compute_targets[\"cpu-sm-cluster\"]"
   ]
  },
  {
   "cell_type": "code",
   "execution_count": 32,
   "id": "18fae0ff-eb54-4bed-b7df-246f4b823184",
   "metadata": {},
   "outputs": [],
   "source": [
    "experiment_config = AutoMLConfig(\n",
    " task = \"classification\",\n",
    " primary_metric = 'AUC_weighted',\n",
    " training_data = diabetes_train,\n",
    " label_column_name = \"Outcome\",\n",
    " validation_data = diabetes_val,\n",
    " compute_target = compute_target,\n",
    " experiment_timeout_hours = 0.25,\n",
    " iterations = 100\n",
    ")"
   ]
  },
  {
   "cell_type": "code",
   "execution_count": 33,
   "id": "6dfe3299-46d2-40ac-87d5-dd1e6bc93a00",
   "metadata": {},
   "outputs": [
    {
     "name": "stdout",
     "output_type": "stream",
     "text": [
      "Submitting remote run.\n",
      "No run_configuration provided, running on cpu-sm-cluster with default configuration\n",
      "Running on remote compute: cpu-sm-cluster\n"
     ]
    },
    {
     "data": {
      "text/html": [
       "<table style=\"width:100%\"><tr><th>Experiment</th><th>Id</th><th>Type</th><th>Status</th><th>Details Page</th><th>Docs Page</th></tr><tr><td>myautoml-experiment</td><td>AutoML_a2164b93-c39f-4476-aa40-d6f4788d8724</td><td>automl</td><td>NotStarted</td><td><a href=\"https://ml.azure.com/runs/AutoML_a2164b93-c39f-4476-aa40-d6f4788d8724?wsid=/subscriptions/a8b508b6-da16-4c45-84f5-cac5c9f57513/resourcegroups/azure-mlops/workspaces/prod-dev-ml-ws&amp;tid=e648628f-f65c-40cc-8a28-c601daf26a89\" target=\"_blank\" rel=\"noopener\">Link to Azure Machine Learning studio</a></td><td><a href=\"https://docs.microsoft.com/en-us/python/api/overview/azure/ml/intro?view=azure-ml-py\" target=\"_blank\" rel=\"noopener\">Link to Documentation</a></td></tr></table>"
      ],
      "text/plain": [
       "<IPython.core.display.HTML object>"
      ]
     },
     "metadata": {},
     "output_type": "display_data"
    },
    {
     "name": "stdout",
     "output_type": "stream",
     "text": [
      "\n",
      "Current status: FeaturesGeneration. Generating features for the dataset.\n",
      "Current status: DatasetFeaturizationCompleted. Completed fit featurizers and featurizing the dataset.\n",
      "Current status: ModelSelection. Beginning model selection.\n",
      "\n",
      "********************************************************************************************\n",
      "DATA GUARDRAILS: \n",
      "\n",
      "TYPE:         Class balancing detection\n",
      "STATUS:       PASSED\n",
      "DESCRIPTION:  Your inputs were analyzed, and all classes are balanced in your training data.\n",
      "              Learn more about imbalanced data: https://aka.ms/AutomatedMLImbalancedData\n",
      "\n",
      "********************************************************************************************\n",
      "\n",
      "TYPE:         Missing feature values imputation\n",
      "STATUS:       PASSED\n",
      "DESCRIPTION:  No feature missing values were detected in the training data.\n",
      "              Learn more about missing value imputation: https://aka.ms/AutomatedMLFeaturization\n",
      "\n",
      "********************************************************************************************\n",
      "\n",
      "TYPE:         High cardinality feature detection\n",
      "STATUS:       PASSED\n",
      "DESCRIPTION:  Your inputs were analyzed, and no high cardinality features were detected.\n",
      "              Learn more about high cardinality feature handling: https://aka.ms/AutomatedMLFeaturization\n",
      "\n",
      "********************************************************************************************\n",
      "\n",
      "********************************************************************************************\n",
      "ITER: The iteration being evaluated.\n",
      "PIPELINE: A summary description of the pipeline being evaluated.\n",
      "DURATION: Time taken for the current iteration.\n",
      "METRIC: The result of computing score on the fitted pipeline.\n",
      "BEST: The best observed score thus far.\n",
      "********************************************************************************************\n",
      "\n",
      " ITER   PIPELINE                                       DURATION            METRIC      BEST\n",
      "    0   MaxAbsScaler LightGBM                          0:00:14             0.8487    0.8487\n",
      "    1   MaxAbsScaler XGBoostClassifier                 0:00:13             0.8359    0.8487\n",
      "    2   MaxAbsScaler ExtremeRandomTrees                0:00:13             0.8356    0.8487\n",
      "    3   MaxAbsScaler RandomForest                      0:00:13             0.8447    0.8487\n",
      "    4   StandardScalerWrapper LightGBM                 0:00:13             0.8602    0.8602\n",
      "    5   SparseNormalizer XGBoostClassifier             0:00:13             0.7624    0.8602\n",
      "    6   SparseNormalizer RandomForest                  0:00:13             0.7717    0.8602\n",
      "    7   StandardScalerWrapper XGBoostClassifier        0:00:13             0.8172    0.8602\n",
      "    8   SparseNormalizer XGBoostClassifier             0:00:13             0.7807    0.8602\n",
      "    9   MaxAbsScaler RandomForest                      0:00:13             0.8494    0.8602\n",
      "   10   SparseNormalizer LightGBM                      0:00:13             0.7588    0.8602\n",
      "   11   MaxAbsScaler ExtremeRandomTrees                0:00:14             0.8056    0.8602\n",
      "   12   StandardScalerWrapper XGBoostClassifier        0:00:13             0.8587    0.8602\n",
      "   13   StandardScalerWrapper ExtremeRandomTrees       0:00:13             0.7051    0.8602\n",
      "   14   StandardScalerWrapper RandomForest             0:00:13             0.8405    0.8602\n",
      "   15   MaxAbsScaler LightGBM                          0:00:13             0.8609    0.8609\n",
      "   16   MaxAbsScaler LogisticRegression                0:00:13             0.8263    0.8609\n",
      "   17   StandardScalerWrapper ExtremeRandomTrees       0:00:13             0.8665    0.8665\n",
      "   18   StandardScalerWrapper XGBoostClassifier        0:00:13             0.8333    0.8665\n",
      "   19   MaxAbsScaler ExtremeRandomTrees                0:00:13             0.8030    0.8665\n",
      "   20                                                  0:00:04                nan    0.8665\n",
      "ERROR: {\n",
      "    \"additional_properties\": {},\n",
      "    \"error\": {\n",
      "        \"additional_properties\": {\n",
      "            \"debugInfo\": null\n",
      "        },\n",
      "        \"code\": \"UserError\",\n",
      "        \"severity\": null,\n",
      "        \"message\": \"Experiment timeout reached, please consider increasing your experiment timeout.\",\n",
      "        \"message_format\": \"Experiment timeout reached, please consider increasing your experiment timeout.\",\n",
      "        \"message_parameters\": {},\n",
      "        \"reference_code\": null,\n",
      "        \"details_uri\": null,\n",
      "        \"target\": null,\n",
      "        \"details\": [],\n",
      "        \"inner_error\": {\n",
      "            \"additional_properties\": {},\n",
      "            \"code\": \"ResourceExhausted\",\n",
      "            \"inner_error\": {\n",
      "                \"additional_properties\": {},\n",
      "                \"code\": \"Timeout\",\n",
      "                \"inner_error\": {\n",
      "                    \"additional_properties\": {},\n",
      "                    \"code\": \"ExperimentTimeoutForIterations\",\n",
      "                    \"inner_error\": null\n",
      "                }\n",
      "            }\n",
      "        },\n",
      "        \"additional_info\": null\n",
      "    },\n",
      "    \"correlation\": null,\n",
      "    \"environment\": null,\n",
      "    \"location\": null,\n",
      "    \"time\": {},\n",
      "    \"component_name\": null\n",
      "}\n",
      "   21    VotingEnsemble                                0:00:04             0.8709    0.8709\n",
      "   22    StackEnsemble                                 0:00:04             0.8696    0.8709\n"
     ]
    }
   ],
   "source": [
    "from azureml.core.experiment import Experiment\n",
    "my_experiment = Experiment(ws, 'myautoml-experiment')\n",
    "run = my_experiment.submit(experiment_config,\n",
    " show_output=True)"
   ]
  },
  {
   "cell_type": "code",
   "execution_count": 34,
   "id": "3a3a06cc-0db2-4aa8-9d99-16c14a685907",
   "metadata": {},
   "outputs": [],
   "source": [
    "best_run, best_model = run.get_output()"
   ]
  },
  {
   "cell_type": "code",
   "execution_count": 35,
   "id": "49e2ec81-a007-4caa-acf0-aeea87d04694",
   "metadata": {},
   "outputs": [
    {
     "data": {
      "text/html": [
       "<table style=\"width:100%\"><tr><th>Experiment</th><th>Id</th><th>Type</th><th>Status</th><th>Details Page</th><th>Docs Page</th></tr><tr><td>myautoml-experiment</td><td>AutoML_a2164b93-c39f-4476-aa40-d6f4788d8724_21</td><td>azureml.scriptrun</td><td>Completed</td><td><a href=\"https://ml.azure.com/runs/AutoML_a2164b93-c39f-4476-aa40-d6f4788d8724_21?wsid=/subscriptions/a8b508b6-da16-4c45-84f5-cac5c9f57513/resourcegroups/azure-mlops/workspaces/prod-dev-ml-ws&amp;tid=e648628f-f65c-40cc-8a28-c601daf26a89\" target=\"_blank\" rel=\"noopener\">Link to Azure Machine Learning studio</a></td><td><a href=\"https://docs.microsoft.com/en-us/python/api/azureml-core/azureml.core.run.Run?view=azure-ml-py\" target=\"_blank\" rel=\"noopener\">Link to Documentation</a></td></tr></table>"
      ],
      "text/plain": [
       "Run(Experiment: myautoml-experiment,\n",
       "Id: AutoML_a2164b93-c39f-4476-aa40-d6f4788d8724_21,\n",
       "Type: azureml.scriptrun,\n",
       "Status: Completed)"
      ]
     },
     "execution_count": 35,
     "metadata": {},
     "output_type": "execute_result"
    }
   ],
   "source": [
    "best_run"
   ]
  },
  {
   "cell_type": "markdown",
   "id": "612fdd85-2d31-4d6a-be74-954a803111ff",
   "metadata": {},
   "source": [
    "In every automated machine learning experiment, your data is automatically scaled\n",
    "or normalized to help algorithms perform well. This data transformation is becoming part\n",
    "of the trained model. This means that your data is passing through a data transformer\n",
    "first, and then the model is being trained with new feature names that are not directly\n",
    "visible to you"
   ]
  },
  {
   "cell_type": "markdown",
   "id": "ddef0d8d-b51d-4dc4-95b3-622fe9bb4eef",
   "metadata": {},
   "source": [
    "To review the actual steps that are embedded\n",
    "within the AutoML model, you can use the steps attribute of the produced model"
   ]
  },
  {
   "cell_type": "code",
   "execution_count": 37,
   "id": "45756a8c-10ae-4169-a084-a1f327659388",
   "metadata": {},
   "outputs": [
    {
     "data": {
      "text/plain": [
       "[('datatransformer',\n",
       "  DataTransformer(enable_dnn=False, enable_feature_sweeping=True, feature_sweeping_config={}, feature_sweeping_timeout=86400, featurization_config=None, force_text_dnn=False, is_cross_validation=False, is_onnx_compatible=False, task='classification')),\n",
       " ('prefittedsoftvotingclassifier',\n",
       "  PreFittedSoftVotingClassifier(classification_labels=array([0, 1]), estimators=[('17', Pipeline(memory=None, steps=[('standardscalerwrapper', StandardScalerWrapper(copy=True, with_mean=False, with_std=True)), ('extratreesclassifier', ExtraTreesClassifier(bootstrap=False, ccp_alpha=0.0, class_weight='balanced', criterion='gini', max_depth=None, max_features=None, max_leaf_nodes=None, max_samples=None, min_impurity_decrease=0.0, min_impurity_split=None, min_samples_leaf=0.01, min_samples_split=0.056842105263157895, min_weight_fraction_leaf=0.0, n_estimators=200, n_jobs=1, oob_score=False, random_state=None, verbose=0, warm_start=False))], verbose=False)), ('15', Pipeline(memory=None, steps=[('maxabsscaler', MaxAbsScaler(copy=True)), ('lightgbmclassifier', LightGBMClassifier(boosting_type='goss', colsample_bytree=0.5944444444444444, learning_rate=0.026323157894736843, max_bin=310, max_depth=-1, min_child_weight=3, min_data_in_leaf=1e-05, min_split_gain=0.7894736842105263, n_estimators=50, n_jobs=1, num_leaves=131, problem_info=ProblemInfo(gpu_training_param_dict={'processing_unit_type': 'cpu'}), random_state=None, reg_alpha=0.3684210526315789, reg_lambda=1, subsample=1))], verbose=False)), ('4', Pipeline(memory=None, steps=[('standardscalerwrapper', StandardScalerWrapper(copy=True, with_mean=False, with_std=True)), ('lightgbmclassifier', LightGBMClassifier(boosting_type='gbdt', colsample_bytree=0.4955555555555555, learning_rate=0.09473736842105263, max_bin=140, max_depth=6, min_child_weight=0, min_data_in_leaf=0.08276034482758622, min_split_gain=0.10526315789473684, n_estimators=25, n_jobs=1, num_leaves=164, problem_info=ProblemInfo(gpu_training_param_dict={'processing_unit_type': 'cpu'}), random_state=None, reg_alpha=0.3157894736842105, reg_lambda=0.3157894736842105, subsample=0.5942105263157895))], verbose=False)), ('12', Pipeline(memory=None, steps=[('standardscalerwrapper', StandardScalerWrapper(copy=True, with_mean=False, with_std=False)), ('xgboostclassifier', XGBoostClassifier(booster='gbtree', colsample_bytree=0.9, eta=0.1, gamma=0, max_depth=6, max_leaves=3, n_estimators=25, n_jobs=1, objective='reg:logistic', problem_info=ProblemInfo(gpu_training_param_dict={'processing_unit_type': 'cpu'}), random_state=0, reg_alpha=0, reg_lambda=0.7291666666666667, subsample=0.5, tree_method='auto'))], verbose=False)), ('9', Pipeline(memory=None, steps=[('maxabsscaler', MaxAbsScaler(copy=True)), ('randomforestclassifier', RandomForestClassifier(bootstrap=True, ccp_alpha=0.0, class_weight='balanced', criterion='gini', max_depth=None, max_features='log2', max_leaf_nodes=None, max_samples=None, min_impurity_decrease=0.0, min_impurity_split=None, min_samples_leaf=0.06157894736842105, min_samples_split=0.10368421052631578, min_weight_fraction_leaf=0.0, n_estimators=25, n_jobs=1, oob_score=True, random_state=None, verbose=0, warm_start=False))], verbose=False)), ('3', Pipeline(memory=None, steps=[('maxabsscaler', MaxAbsScaler(copy=True)), ('randomforestclassifier', RandomForestClassifier(bootstrap=True, ccp_alpha=0.0, class_weight=None, criterion='gini', max_depth=None, max_features='log2', max_leaf_nodes=None, max_samples=None, min_impurity_decrease=0.0, min_impurity_split=None, min_samples_leaf=0.01, min_samples_split=0.01, min_weight_fraction_leaf=0.0, n_estimators=10, n_jobs=1, oob_score=False, random_state=None, verbose=0, warm_start=False))], verbose=False)), ('19', Pipeline(memory=None, steps=[('maxabsscaler', MaxAbsScaler(copy=True)), ('extratreesclassifier', ExtraTreesClassifier(bootstrap=False, ccp_alpha=0.0, class_weight=None, criterion='entropy', max_depth=None, max_features=0.05, max_leaf_nodes=None, max_samples=None, min_impurity_decrease=0.0, min_impurity_split=None, min_samples_leaf=0.01, min_samples_split=0.01, min_weight_fraction_leaf=0.0, n_estimators=100, n_jobs=1, oob_score=False, random_state=None, verbose=0, warm_start=False))], verbose=False))], flatten_transform=None, weights=[0.2727272727272727, 0.09090909090909091, 0.09090909090909091, 0.2727272727272727, 0.09090909090909091, 0.09090909090909091, 0.09090909090909091]))]"
      ]
     },
     "execution_count": 37,
     "metadata": {},
     "output_type": "execute_result"
    }
   ],
   "source": [
    "best_model.steps"
   ]
  },
  {
   "cell_type": "markdown",
   "id": "d543de2a-8bdf-4eb9-909b-c31b63582940",
   "metadata": {},
   "source": [
    "The first step is named datatransformer and contains the imputers used for\n",
    "our diabetes dataset. This step is named datatransformer for both regression and\n",
    "classification tasks. For forecasting tasks, this step is named timeseriestransformer,\n",
    "and it contains additional date-based transformations. To get a list of transformations and\n",
    "the names of engineered features, you can use the following code snippet"
   ]
  },
  {
   "cell_type": "code",
   "execution_count": 40,
   "id": "2aa0a28b-6e8a-42ea-8c48-d9e8bcbc1bf6",
   "metadata": {},
   "outputs": [
    {
     "name": "stdout",
     "output_type": "stream",
     "text": [
      "[{'RawFeatureName': 'Pregnancies', 'TypeDetected': 'Categorical', 'Dropped': 'No', 'EngineeredFeatureCount': 17, 'Transformations': ['StringCast-CharGramCountVectorizer']}, {'RawFeatureName': 'Glucose', 'TypeDetected': 'Numeric', 'Dropped': 'No', 'EngineeredFeatureCount': 1, 'Transformations': ['MeanImputer']}, {'RawFeatureName': 'BloodPressure', 'TypeDetected': 'Numeric', 'Dropped': 'No', 'EngineeredFeatureCount': 1, 'Transformations': ['MeanImputer']}, {'RawFeatureName': 'SkinThickness', 'TypeDetected': 'Numeric', 'Dropped': 'No', 'EngineeredFeatureCount': 1, 'Transformations': ['MeanImputer']}, {'RawFeatureName': 'Insulin', 'TypeDetected': 'Numeric', 'Dropped': 'No', 'EngineeredFeatureCount': 1, 'Transformations': ['MeanImputer']}, {'RawFeatureName': 'BMI', 'TypeDetected': 'Numeric', 'Dropped': 'No', 'EngineeredFeatureCount': 1, 'Transformations': ['MeanImputer']}, {'RawFeatureName': 'DiabetesPedigreeFunction', 'TypeDetected': 'Numeric', 'Dropped': 'No', 'EngineeredFeatureCount': 1, 'Transformations': ['MeanImputer']}, {'RawFeatureName': 'Age', 'TypeDetected': 'Numeric', 'Dropped': 'No', 'EngineeredFeatureCount': 1, 'Transformations': ['MeanImputer']}]\n"
     ]
    }
   ],
   "source": [
    "print(best_model.named_steps['datatransformer'] \\\n",
    " .get_featurization_summary())\n"
   ]
  },
  {
   "cell_type": "code",
   "execution_count": 41,
   "id": "1cfbb38a-c07c-42a1-a556-b67db5d53177",
   "metadata": {},
   "outputs": [
    {
     "name": "stdout",
     "output_type": "stream",
     "text": [
      "Engineered feature names:\n",
      "['Pregnancies_CharGramCountVectorizer_0', 'Pregnancies_CharGramCountVectorizer_1', 'Pregnancies_CharGramCountVectorizer_10', 'Pregnancies_CharGramCountVectorizer_11', 'Pregnancies_CharGramCountVectorizer_12', 'Pregnancies_CharGramCountVectorizer_13', 'Pregnancies_CharGramCountVectorizer_14', 'Pregnancies_CharGramCountVectorizer_15', 'Pregnancies_CharGramCountVectorizer_17', 'Pregnancies_CharGramCountVectorizer_2', 'Pregnancies_CharGramCountVectorizer_3', 'Pregnancies_CharGramCountVectorizer_4', 'Pregnancies_CharGramCountVectorizer_5', 'Pregnancies_CharGramCountVectorizer_6', 'Pregnancies_CharGramCountVectorizer_7', 'Pregnancies_CharGramCountVectorizer_8', 'Pregnancies_CharGramCountVectorizer_9', 'Glucose_MeanImputer', 'BloodPressure_MeanImputer', 'SkinThickness_MeanImputer', 'Insulin_MeanImputer', 'BMI_MeanImputer', 'DiabetesPedigreeFunction_MeanImputer', 'Age_MeanImputer']\n"
     ]
    }
   ],
   "source": [
    "feature_names=best_model.named_steps['datatransformer'] \\\n",
    " .get_engineered_feature_names()\n",
    "print(\"Engineered feature names:\")\n",
    "print(feature_names)"
   ]
  },
  {
   "cell_type": "code",
   "execution_count": null,
   "id": "7fe623c2-da31-40f8-b57c-7050f528a69b",
   "metadata": {},
   "outputs": [],
   "source": []
  }
 ],
 "metadata": {
  "kernelspec": {
   "display_name": "Python 3.8 - AzureML",
   "language": "python",
   "name": "python38-azureml"
  },
  "language_info": {
   "codemirror_mode": {
    "name": "ipython",
    "version": 3
   },
   "file_extension": ".py",
   "mimetype": "text/x-python",
   "name": "python",
   "nbconvert_exporter": "python",
   "pygments_lexer": "ipython3",
   "version": "3.8.5"
  }
 },
 "nbformat": 4,
 "nbformat_minor": 5
}
